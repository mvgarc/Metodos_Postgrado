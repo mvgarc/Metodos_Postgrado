{
 "cells": [
  {
   "cell_type": "code",
   "execution_count": 9,
   "id": "f89bf186",
   "metadata": {},
   "outputs": [],
   "source": [
    "import pandas as pd\n",
    "import statsmodels.api as sm"
   ]
  },
  {
   "cell_type": "code",
   "execution_count": null,
   "id": "f22ddd53",
   "metadata": {},
   "outputs": [
    {
     "data": {
      "text/html": [
       "<div>\n",
       "<style scoped>\n",
       "    .dataframe tbody tr th:only-of-type {\n",
       "        vertical-align: middle;\n",
       "    }\n",
       "\n",
       "    .dataframe tbody tr th {\n",
       "        vertical-align: top;\n",
       "    }\n",
       "\n",
       "    .dataframe thead th {\n",
       "        text-align: right;\n",
       "    }\n",
       "</style>\n",
       "<table border=\"1\" class=\"dataframe\">\n",
       "  <thead>\n",
       "    <tr style=\"text-align: right;\">\n",
       "      <th></th>\n",
       "      <th>Date</th>\n",
       "      <th>Close</th>\n",
       "      <th>High</th>\n",
       "      <th>Low</th>\n",
       "      <th>Open</th>\n",
       "      <th>Volume</th>\n",
       "    </tr>\n",
       "  </thead>\n",
       "  <tbody>\n",
       "    <tr>\n",
       "      <th>0</th>\n",
       "      <td>1997-05-15</td>\n",
       "      <td>0.097917</td>\n",
       "      <td>0.125000</td>\n",
       "      <td>0.096354</td>\n",
       "      <td>0.121875</td>\n",
       "      <td>1443120000</td>\n",
       "    </tr>\n",
       "    <tr>\n",
       "      <th>1</th>\n",
       "      <td>1997-05-16</td>\n",
       "      <td>0.086458</td>\n",
       "      <td>0.098958</td>\n",
       "      <td>0.085417</td>\n",
       "      <td>0.098438</td>\n",
       "      <td>294000000</td>\n",
       "    </tr>\n",
       "    <tr>\n",
       "      <th>2</th>\n",
       "      <td>1997-05-19</td>\n",
       "      <td>0.085417</td>\n",
       "      <td>0.088542</td>\n",
       "      <td>0.081250</td>\n",
       "      <td>0.088021</td>\n",
       "      <td>122136000</td>\n",
       "    </tr>\n",
       "    <tr>\n",
       "      <th>3</th>\n",
       "      <td>1997-05-20</td>\n",
       "      <td>0.081771</td>\n",
       "      <td>0.087500</td>\n",
       "      <td>0.081771</td>\n",
       "      <td>0.086458</td>\n",
       "      <td>109344000</td>\n",
       "    </tr>\n",
       "    <tr>\n",
       "      <th>4</th>\n",
       "      <td>1997-05-21</td>\n",
       "      <td>0.071354</td>\n",
       "      <td>0.082292</td>\n",
       "      <td>0.068750</td>\n",
       "      <td>0.081771</td>\n",
       "      <td>377064000</td>\n",
       "    </tr>\n",
       "  </tbody>\n",
       "</table>\n",
       "</div>"
      ],
      "text/plain": [
       "         Date     Close      High       Low      Open      Volume\n",
       "0  1997-05-15  0.097917  0.125000  0.096354  0.121875  1443120000\n",
       "1  1997-05-16  0.086458  0.098958  0.085417  0.098438   294000000\n",
       "2  1997-05-19  0.085417  0.088542  0.081250  0.088021   122136000\n",
       "3  1997-05-20  0.081771  0.087500  0.081771  0.086458   109344000\n",
       "4  1997-05-21  0.071354  0.082292  0.068750  0.081771   377064000"
      ]
     },
     "execution_count": 2,
     "metadata": {},
     "output_type": "execute_result"
    }
   ],
   "source": [
    "# Cargar el archivo\n",
    "df_amazon = pd.read_csv('Amazon_stock_data.csv')\n",
    "\n",
    "# Ver las primeras filas\n",
    "df_amazon.head()"
   ]
  },
  {
   "cell_type": "code",
   "execution_count": 3,
   "id": "af34291a",
   "metadata": {},
   "outputs": [],
   "source": [
    "# Seleccionar variables predictoras y la respuesta\n",
    "X = df_amazon[['Open', 'High', 'Low', 'Volume']]\n",
    "y = df_amazon['Close']"
   ]
  },
  {
   "cell_type": "code",
   "execution_count": 10,
   "id": "fd28f241",
   "metadata": {},
   "outputs": [],
   "source": [
    "X_const = sm.add_constant(X)  # Añadir constante para el término independiente"
   ]
  },
  {
   "cell_type": "code",
   "execution_count": 11,
   "id": "3f65ed52",
   "metadata": {},
   "outputs": [
    {
     "name": "stdout",
     "output_type": "stream",
     "text": [
      "                            OLS Regression Results                            \n",
      "==============================================================================\n",
      "Dep. Variable:                  Close   R-squared:                       1.000\n",
      "Model:                            OLS   Adj. R-squared:                  1.000\n",
      "Method:                 Least Squares   F-statistic:                 2.471e+07\n",
      "Date:                Tue, 24 Jun 2025   Prob (F-statistic):               0.00\n",
      "Time:                        15:21:37   Log-Likelihood:                -5245.9\n",
      "No. Observations:                7067   AIC:                         1.050e+04\n",
      "Df Residuals:                    7062   BIC:                         1.054e+04\n",
      "Df Model:                           4                                         \n",
      "Covariance Type:            nonrobust                                         \n",
      "==============================================================================\n",
      "                 coef    std err          t      P>|t|      [0.025      0.975]\n",
      "------------------------------------------------------------------------------\n",
      "const          0.0033      0.011      0.311      0.755      -0.018       0.024\n",
      "Open          -0.6151      0.009    -69.247      0.000      -0.633      -0.598\n",
      "High           0.8166      0.008    104.310      0.000       0.801       0.832\n",
      "Low            0.7989      0.008    102.596      0.000       0.784       0.814\n",
      "Volume     -3.156e-12   4.69e-11     -0.067      0.946   -9.51e-11    8.88e-11\n",
      "==============================================================================\n",
      "Omnibus:                     1693.931   Durbin-Watson:                   2.135\n",
      "Prob(Omnibus):                  0.000   Jarque-Bera (JB):            82991.582\n",
      "Skew:                           0.277   Prob(JB):                         0.00\n",
      "Kurtosis:                      19.779   Cond. No.                     3.46e+08\n",
      "==============================================================================\n",
      "\n",
      "Notes:\n",
      "[1] Standard Errors assume that the covariance matrix of the errors is correctly specified.\n",
      "[2] The condition number is large, 3.46e+08. This might indicate that there are\n",
      "strong multicollinearity or other numerical problems.\n"
     ]
    }
   ],
   "source": [
    "modelo = sm.OLS(y, X_const).fit()\n",
    "print(modelo.summary())"
   ]
  },
  {
   "cell_type": "code",
   "execution_count": 12,
   "id": "e63b2451",
   "metadata": {},
   "outputs": [
    {
     "name": "stdout",
     "output_type": "stream",
     "text": [
      "Variables seleccionadas: ['High', 'Low']\n"
     ]
    }
   ],
   "source": [
    "from sklearn.linear_model import LinearRegression\n",
    "from sklearn.feature_selection import SequentialFeatureSelector\n",
    "\n",
    "selector = SequentialFeatureSelector(LinearRegression(), direction='forward')\n",
    "selector.fit(X, y)\n",
    "\n",
    "# Mostrar variables seleccionadas\n",
    "features_selected = X.columns[selector.get_support()]\n",
    "print(\"Variables seleccionadas:\", list(features_selected))\n"
   ]
  }
 ],
 "metadata": {
  "kernelspec": {
   "display_name": "Python 3",
   "language": "python",
   "name": "python3"
  },
  "language_info": {
   "codemirror_mode": {
    "name": "ipython",
    "version": 3
   },
   "file_extension": ".py",
   "mimetype": "text/x-python",
   "name": "python",
   "nbconvert_exporter": "python",
   "pygments_lexer": "ipython3",
   "version": "3.13.2"
  }
 },
 "nbformat": 4,
 "nbformat_minor": 5
}
